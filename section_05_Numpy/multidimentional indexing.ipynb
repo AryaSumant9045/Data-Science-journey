{
 "cells": [
  {
   "cell_type": "code",
   "execution_count": 3,
   "id": "6b6e4e9e-6569-41f4-a5d3-2baa4c2acf4a",
   "metadata": {},
   "outputs": [
    {
     "name": "stdout",
     "output_type": "stream",
     "text": [
      "[[1 2 3]\n",
      " [4 5 6]\n",
      " [7 8 9]]\n"
     ]
    }
   ],
   "source": [
    "import numpy as np\n",
    "\n",
    "arr = np.array([[1, 2, 3], \n",
    "                [4, 5, 6], \n",
    "                [7, 8, 9]])\n",
    "\n",
    "print(arr)"
   ]
  },
  {
   "cell_type": "code",
   "execution_count": 9,
   "id": "d1707986-96e0-40f2-851e-78a7f70945a5",
   "metadata": {},
   "outputs": [
    {
     "data": {
      "text/plain": [
       "array([12, 15, 18])"
      ]
     },
     "execution_count": 9,
     "metadata": {},
     "output_type": "execute_result"
    }
   ],
   "source": [
    "row_sum = np.sum(arr, axis = 0)\n",
    "row_sum"
   ]
  },
  {
   "cell_type": "code",
   "execution_count": 11,
   "id": "9a8f62c3-1d69-4b85-b14e-e6e5869b5175",
   "metadata": {},
   "outputs": [
    {
     "data": {
      "text/plain": [
       "array([ 6, 15, 24])"
      ]
     },
     "execution_count": 11,
     "metadata": {},
     "output_type": "execute_result"
    }
   ],
   "source": [
    "coloum_sum = np.sum(arr, axis = 1)\n",
    "coloum_sum"
   ]
  },
  {
   "cell_type": "code",
   "execution_count": 17,
   "id": "1dbbf222-f487-41ad-aa43-6850b0cef6a3",
   "metadata": {},
   "outputs": [
    {
     "data": {
      "text/plain": [
       "np.int64(3)"
      ]
     },
     "execution_count": 17,
     "metadata": {},
     "output_type": "execute_result"
    }
   ],
   "source": [
    "arr[0][2]\n"
   ]
  },
  {
   "cell_type": "code",
   "execution_count": 23,
   "id": "d4a0cd0c-1c39-4ac4-9a04-368bcb4e13aa",
   "metadata": {},
   "outputs": [
    {
     "data": {
      "text/plain": [
       "np.int64(3)"
      ]
     },
     "execution_count": 23,
     "metadata": {},
     "output_type": "execute_result"
    }
   ],
   "source": [
    "arr[0,2]"
   ]
  },
  {
   "cell_type": "code",
   "execution_count": 25,
   "id": "f85e1ca9-87e2-42a6-afd3-b664f43e0d32",
   "metadata": {},
   "outputs": [
    {
     "name": "stdout",
     "output_type": "stream",
     "text": [
      "[[2 3]\n",
      " [5 6]]\n"
     ]
    }
   ],
   "source": [
    "print(arr[0:2, 1:3])  # Extracts first 2 rows and last 2 columns"
   ]
  },
  {
   "cell_type": "code",
   "execution_count": 32,
   "id": "22a717c1-1e72-4507-8d38-cfb4b0f8bb82",
   "metadata": {},
   "outputs": [
    {
     "data": {
      "text/plain": [
       "array([[[ 1,  2,  3],\n",
       "        [ 4,  5,  6]],\n",
       "\n",
       "       [[ 7,  8,  9],\n",
       "        [10, 11, 12]]])"
      ]
     },
     "execution_count": 32,
     "metadata": {},
     "output_type": "execute_result"
    }
   ],
   "source": [
    "arr3D = np.array([[[1, 2, 3], [4, 5, 6]],\n",
    "                  [[7, 8, 9], [10, 11, 12]]])\n",
    "arr3D"
   ]
  },
  {
   "cell_type": "code",
   "execution_count": 34,
   "id": "293c075d-4a76-470d-9645-ee25ddd0c91c",
   "metadata": {},
   "outputs": [
    {
     "name": "stdout",
     "output_type": "stream",
     "text": [
      "6\n",
      "[[1 2 3]\n",
      " [7 8 9]]\n"
     ]
    }
   ],
   "source": [
    "# First sheet, second row, third column\n",
    "print(arr3D[0, 1, 2])  # Output: 6\n",
    "\n",
    "print(arr3D[:, 0, :])   # Get the first row from both sheets"
   ]
  },
  {
   "cell_type": "code",
   "execution_count": null,
   "id": "fdd2a148-1737-4308-8733-29cd158e9b8d",
   "metadata": {},
   "outputs": [],
   "source": []
  },
  {
   "cell_type": "code",
   "execution_count": null,
   "id": "6c816d8c-28eb-4ddc-9c65-56a03fb1ad35",
   "metadata": {},
   "outputs": [],
   "source": []
  }
 ],
 "metadata": {
  "kernelspec": {
   "display_name": "Python [conda env:base] *",
   "language": "python",
   "name": "conda-base-py"
  },
  "language_info": {
   "codemirror_mode": {
    "name": "ipython",
    "version": 3
   },
   "file_extension": ".py",
   "mimetype": "text/x-python",
   "name": "python",
   "nbconvert_exporter": "python",
   "pygments_lexer": "ipython3",
   "version": "3.12.7"
  }
 },
 "nbformat": 4,
 "nbformat_minor": 5
}
