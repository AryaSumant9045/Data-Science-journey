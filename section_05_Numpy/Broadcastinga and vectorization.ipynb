{
 "cells": [
  {
   "cell_type": "code",
   "execution_count": 3,
   "id": "c7b2f85f-7792-4ed2-9571-e87f85189081",
   "metadata": {},
   "outputs": [
    {
     "name": "stdout",
     "output_type": "stream",
     "text": [
      "[np.int64(1), np.int64(4), np.int64(9), np.int64(16), np.int64(25)]\n"
     ]
    }
   ],
   "source": [
    "import numpy as np\n",
    "\n",
    "arr = np.array([1, 2, 3, 4, 5])\n",
    "result = []\n",
    "\n",
    "# Using a loop to square each element (slow)\n",
    "for num in arr:\n",
    "    result.append(num ** 2)\n",
    "\n",
    "print(result)  # Output: [1, 4, 9, 16, 25]"
   ]
  },
  {
   "cell_type": "code",
   "execution_count": 5,
   "id": "509745f1-90d1-4af7-90c7-8d5ed559e5b3",
   "metadata": {},
   "outputs": [
    {
     "name": "stdout",
     "output_type": "stream",
     "text": [
      "[ 1  4  9 16 25]\n"
     ]
    }
   ],
   "source": [
    "\n",
    "\n",
    "arr = np.array([1, 2, 3, 4, 5])\n",
    "result = arr ** 2  # Vectorized operation\n",
    "print(result)  # Output: [1 4 9 16 25]"
   ]
  },
  {
   "cell_type": "code",
   "execution_count": 9,
   "id": "89f8a99d-23ee-41eb-8f76-cdd11dc4ebcb",
   "metadata": {},
   "outputs": [
    {
     "name": "stdout",
     "output_type": "stream",
     "text": [
      "[11 12 13 14 15]\n"
     ]
    }
   ],
   "source": [
    "\n",
    "\n",
    "arr = np.array([1, 2, 3, 4, 5])\n",
    "result = arr + 10  # Broadcasting: 10 is added to all elements\n",
    "print(result)  # Output: [11 12 13 14 15]"
   ]
  },
  {
   "cell_type": "code",
   "execution_count": 15,
   "id": "3d3fdafb-f79d-4e3f-a82e-be594b910e9c",
   "metadata": {},
   "outputs": [
    {
     "name": "stdout",
     "output_type": "stream",
     "text": [
      "[[2 4 6]\n",
      " [5 7 9]]\n"
     ]
    }
   ],
   "source": [
    "\n",
    "\n",
    "\n",
    "arr1 = np.array([[1, 2, 3], [4, 5, 6]])\n",
    "arr2 = np.array([1, 2, 3])\n",
    "\n",
    "result = arr1 + arr2  # Broadcasting arr2 across arr1\n",
    "print(result)\n",
    "# Output:\n",
    "# [[2 4 6]\n",
    "#  [5 7 9]]"
   ]
  },
  {
   "cell_type": "code",
   "execution_count": 17,
   "id": "dd66bb41-4402-4903-848a-4f99402253cf",
   "metadata": {},
   "outputs": [
    {
     "name": "stdout",
     "output_type": "stream",
     "text": [
      "[[-1.41421356 -1.41421356 -1.41421356]\n",
      " [-0.70710678 -0.70710678 -0.70710678]\n",
      " [ 0.          0.          0.        ]\n",
      " [ 0.70710678  0.70710678  0.70710678]\n",
      " [ 1.41421356  1.41421356  1.41421356]]\n"
     ]
    }
   ],
   "source": [
    "\n",
    "\n",
    "\n",
    "# Simulating a dataset (5 samples, 3 features)\n",
    "data = np.array([[10, 20, 30],\n",
    "                 [15, 25, 35],\n",
    "                 [20, 30, 40],\n",
    "                 [25, 35, 45],\n",
    "                 [30, 40, 50]])\n",
    "\n",
    "# Calculating mean and standard deviation for each feature (column)\n",
    "mean = data.mean(axis=0)\n",
    "std = data.std(axis=0)\n",
    "\n",
    "# Normalizing the data using broadcasting\n",
    "normalized_data = (data - mean) / std\n",
    "\n",
    "print(normalized_data)"
   ]
  },
  {
   "cell_type": "code",
   "execution_count": null,
   "id": "f52823c4-dbfe-462e-98f2-5ba66514a4ce",
   "metadata": {},
   "outputs": [],
   "source": []
  }
 ],
 "metadata": {
  "kernelspec": {
   "display_name": "Python [conda env:base] *",
   "language": "python",
   "name": "conda-base-py"
  },
  "language_info": {
   "codemirror_mode": {
    "name": "ipython",
    "version": 3
   },
   "file_extension": ".py",
   "mimetype": "text/x-python",
   "name": "python",
   "nbconvert_exporter": "python",
   "pygments_lexer": "ipython3",
   "version": "3.12.7"
  }
 },
 "nbformat": 4,
 "nbformat_minor": 5
}
