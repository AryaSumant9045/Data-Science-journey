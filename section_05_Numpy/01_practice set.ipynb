{
 "cells": [
  {
   "cell_type": "code",
   "execution_count": 7,
   "id": "174f244e-ec75-4f3f-8182-eb2df58b51b4",
   "metadata": {},
   "outputs": [],
   "source": [
    "import numpy as np\n",
    "arr = np.array([[3,3,4],[4,6,2],[4,7,6]])"
   ]
  },
  {
   "cell_type": "code",
   "execution_count": 10,
   "id": "7a6bce8f-020a-4def-a686-7979d15721d5",
   "metadata": {},
   "outputs": [
    {
     "data": {
      "text/plain": [
       "(3, 3)"
      ]
     },
     "execution_count": 10,
     "metadata": {},
     "output_type": "execute_result"
    }
   ],
   "source": [
    "arr.shape"
   ]
  },
  {
   "cell_type": "code",
   "execution_count": 38,
   "id": "3cd11189-e23b-416e-b4dd-703afd600268",
   "metadata": {},
   "outputs": [
    {
     "data": {
      "text/plain": [
       "[1, 2, 3]"
      ]
     },
     "execution_count": 38,
     "metadata": {},
     "output_type": "execute_result"
    }
   ],
   "source": [
    "# 2 Qestion\n",
    "import math\n",
    "arr = np.array([1.1,2.2,3.3])\n",
    "integer = [math.floor(x) for x in arr]\n",
    "integer"
   ]
  },
  {
   "cell_type": "code",
   "execution_count": 20,
   "id": "2c81ac24-c494-42bc-81ff-7a46729c7edd",
   "metadata": {},
   "outputs": [
    {
     "data": {
      "text/plain": [
       "array([2, 4, 6])"
      ]
     },
     "execution_count": 20,
     "metadata": {},
     "output_type": "execute_result"
    }
   ],
   "source": [
    "# 3 Question \n",
    "arr = np.array([1,2,3,4,5,6])\n",
    "arr[[1,3,5]]"
   ]
  },
  {
   "cell_type": "code",
   "execution_count": 26,
   "id": "878a3430-e36e-4dae-b509-c298690456e6",
   "metadata": {},
   "outputs": [
    {
     "data": {
      "text/plain": [
       "array([[2, 4, 5],\n",
       "       [6, 7, 7],\n",
       "       [4, 3, 8]])"
      ]
     },
     "execution_count": 26,
     "metadata": {},
     "output_type": "execute_result"
    }
   ],
   "source": [
    "# 4 question\n",
    "array = np.array([2,4,5,6,7,7,4,3,8])\n",
    "array.reshape(3,3)"
   ]
  },
  {
   "cell_type": "code",
   "execution_count": 34,
   "id": "898a7599-e05f-4d27-bf47-581431a998b2",
   "metadata": {},
   "outputs": [
    {
     "data": {
      "text/plain": [
       "array([2444,  322,  788,   87,   87,  988,   68,   98])"
      ]
     },
     "execution_count": 34,
     "metadata": {},
     "output_type": "execute_result"
    }
   ],
   "source": [
    "# 5 question\n",
    "arr = np.array([4,33,2444,322,43,21,788,87,87,988,68,98])\n",
    "mask = arr>50\n",
    "arr[mask]"
   ]
  }
 ],
 "metadata": {
  "kernelspec": {
   "display_name": "Python [conda env:base] *",
   "language": "python",
   "name": "conda-base-py"
  },
  "language_info": {
   "codemirror_mode": {
    "name": "ipython",
    "version": 3
   },
   "file_extension": ".py",
   "mimetype": "text/x-python",
   "name": "python",
   "nbconvert_exporter": "python",
   "pygments_lexer": "ipython3",
   "version": "3.12.7"
  }
 },
 "nbformat": 4,
 "nbformat_minor": 5
}
