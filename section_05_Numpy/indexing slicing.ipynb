{
 "cells": [
  {
   "cell_type": "code",
   "execution_count": 3,
   "id": "5c307847-2792-4475-a96b-712dc8da99ce",
   "metadata": {},
   "outputs": [],
   "source": [
    "import numpy as np"
   ]
  },
  {
   "cell_type": "code",
   "execution_count": 11,
   "id": "a7b30616-54c2-4728-b71b-513b7469213a",
   "metadata": {},
   "outputs": [
    {
     "data": {
      "text/plain": [
       "array([[2, 4, 5],\n",
       "       [5, 6, 4],\n",
       "       [5, 7, 6],\n",
       "       [2, 4, 6]])"
      ]
     },
     "execution_count": 11,
     "metadata": {},
     "output_type": "execute_result"
    }
   ],
   "source": [
    "arr = np.array([[2,4,5],[5,6,4],[5,7,6],[2,4,6]])\n",
    "arr"
   ]
  },
  {
   "cell_type": "code",
   "execution_count": 19,
   "id": "5e03f128-ba04-43ea-aa57-433a1873af9a",
   "metadata": {},
   "outputs": [
    {
     "data": {
      "text/plain": [
       "array([2, 4, 5, 5, 6, 4, 5, 7, 6, 2, 4, 6])"
      ]
     },
     "execution_count": 19,
     "metadata": {},
     "output_type": "execute_result"
    }
   ],
   "source": [
    "flat = arr.flatten()\n",
    "flat"
   ]
  },
  {
   "cell_type": "code",
   "execution_count": 23,
   "id": "7a6afe2d-3f9b-467e-83ed-f259b9e8fe93",
   "metadata": {},
   "outputs": [
    {
     "data": {
      "text/plain": [
       "np.int64(2)"
      ]
     },
     "execution_count": 23,
     "metadata": {},
     "output_type": "execute_result"
    }
   ],
   "source": [
    "flat[0]"
   ]
  },
  {
   "cell_type": "code",
   "execution_count": 27,
   "id": "70231634-ba82-4180-8dce-f838a52e7dc4",
   "metadata": {},
   "outputs": [
    {
     "data": {
      "text/plain": [
       "array([2, 4, 5, 5])"
      ]
     },
     "execution_count": 27,
     "metadata": {},
     "output_type": "execute_result"
    }
   ],
   "source": [
    "flat[:4]"
   ]
  },
  {
   "cell_type": "code",
   "execution_count": 31,
   "id": "a222268f-0338-44f7-a603-6ef4a35381e7",
   "metadata": {},
   "outputs": [
    {
     "data": {
      "text/plain": [
       "array([4, 5, 7, 6, 2, 4, 6])"
      ]
     },
     "execution_count": 31,
     "metadata": {},
     "output_type": "execute_result"
    }
   ],
   "source": [
    "flat[5:]"
   ]
  },
  {
   "cell_type": "code",
   "execution_count": 33,
   "id": "1caf2687-5614-49e8-834d-6549e0a76df6",
   "metadata": {},
   "outputs": [
    {
     "data": {
      "text/plain": [
       "array([2, 5, 5, 2])"
      ]
     },
     "execution_count": 33,
     "metadata": {},
     "output_type": "execute_result"
    }
   ],
   "source": [
    "flat[::3]"
   ]
  },
  {
   "cell_type": "code",
   "execution_count": 35,
   "id": "e2ae58d6-713e-4fca-8ca3-ca6d02abdf65",
   "metadata": {},
   "outputs": [],
   "source": [
    "flat[3] = 3434"
   ]
  },
  {
   "cell_type": "code",
   "execution_count": 39,
   "id": "7a492784-9756-4b38-a801-7873fe7928b8",
   "metadata": {},
   "outputs": [
    {
     "data": {
      "text/plain": [
       "array([   2,    4,    5, 3434,    6,    4,    5,    7,    6,    2,    4,\n",
       "          6])"
      ]
     },
     "execution_count": 39,
     "metadata": {},
     "output_type": "execute_result"
    }
   ],
   "source": [
    "flat"
   ]
  },
  {
   "cell_type": "code",
   "execution_count": 43,
   "id": "c2e31109-3944-4784-9d99-a20814eb7391",
   "metadata": {},
   "outputs": [
    {
     "data": {
      "text/plain": [
       "array([   5, 3434,    6])"
      ]
     },
     "execution_count": 43,
     "metadata": {},
     "output_type": "execute_result"
    }
   ],
   "source": [
    "flat[2:5].copy() # this is not a slice b/c we are using copy to get the copy"
   ]
  },
  {
   "cell_type": "code",
   "execution_count": null,
   "id": "1426f8bb-941b-411c-812f-7a14176bd715",
   "metadata": {},
   "outputs": [],
   "source": []
  },
  {
   "cell_type": "code",
   "execution_count": 50,
   "id": "da2ab32a-6423-4b32-9eff-9226df0c68aa",
   "metadata": {},
   "outputs": [
    {
     "data": {
      "text/plain": [
       "array([ 3, 44,  4, 32, 22,  6,  7, 87,  6,  5])"
      ]
     },
     "execution_count": 50,
     "metadata": {},
     "output_type": "execute_result"
    }
   ],
   "source": [
    "arr = np.array([3,44,4,32,22,6,7,87,6,5,])\n",
    "arr"
   ]
  },
  {
   "cell_type": "code",
   "execution_count": 54,
   "id": "026f9bdd-7edc-423b-b5c1-74ab9c422a5c",
   "metadata": {},
   "outputs": [
    {
     "data": {
      "text/plain": [
       "array([ 4, 32,  6])"
      ]
     },
     "execution_count": 54,
     "metadata": {},
     "output_type": "execute_result"
    }
   ],
   "source": [
    "arr[[2,3,5]]"
   ]
  },
  {
   "cell_type": "code",
   "execution_count": 58,
   "id": "c5da2668-701e-44c0-8899-3602bdd3d9d8",
   "metadata": {},
   "outputs": [
    {
     "data": {
      "text/plain": [
       "array([44, 32, 22, 87])"
      ]
     },
     "execution_count": 58,
     "metadata": {},
     "output_type": "execute_result"
    }
   ],
   "source": [
    "arr[arr>8]"
   ]
  },
  {
   "cell_type": "code",
   "execution_count": null,
   "id": "b66377a5-bd5e-4ab8-9be2-d13079d712b5",
   "metadata": {},
   "outputs": [],
   "source": []
  }
 ],
 "metadata": {
  "kernelspec": {
   "display_name": "Python [conda env:base] *",
   "language": "python",
   "name": "conda-base-py"
  },
  "language_info": {
   "codemirror_mode": {
    "name": "ipython",
    "version": 3
   },
   "file_extension": ".py",
   "mimetype": "text/x-python",
   "name": "python",
   "nbconvert_exporter": "python",
   "pygments_lexer": "ipython3",
   "version": "3.12.7"
  }
 },
 "nbformat": 4,
 "nbformat_minor": 5
}
