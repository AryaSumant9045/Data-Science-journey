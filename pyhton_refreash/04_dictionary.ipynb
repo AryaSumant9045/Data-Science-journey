{
 "cells": [
  {
   "cell_type": "code",
   "execution_count": 5,
   "id": "da489dde-9b8d-423c-b092-ac25477bdc28",
   "metadata": {},
   "outputs": [],
   "source": [
    "Student = {\"Name\":\"Harry\",\n",
    "        \"Age\":30,\n",
    "        \"Place\":\"Moradabad\"}\n"
   ]
  },
  {
   "cell_type": "code",
   "execution_count": 9,
   "id": "4b150751-d5a7-4e39-864b-9c30e5d8110f",
   "metadata": {},
   "outputs": [
    {
     "data": {
      "text/plain": [
       "'Harry'"
      ]
     },
     "execution_count": 9,
     "metadata": {},
     "output_type": "execute_result"
    }
   ],
   "source": [
    "Student[\"Name\"]"
   ]
  },
  {
   "cell_type": "code",
   "execution_count": 15,
   "id": "208fbf74-3341-4f13-886a-d298592e724f",
   "metadata": {},
   "outputs": [],
   "source": [
    "l = Student.get(\"Name\")\n"
   ]
  },
  {
   "cell_type": "code",
   "execution_count": 19,
   "id": "f4325225-3389-4938-b019-cc7796e72ff3",
   "metadata": {},
   "outputs": [
    {
     "name": "stdout",
     "output_type": "stream",
     "text": [
      "Harry\n"
     ]
    }
   ],
   "source": [
    "print(l)"
   ]
  },
  {
   "cell_type": "code",
   "execution_count": 23,
   "id": "406bdcc3-670e-43e0-8ede-39830c8c9267",
   "metadata": {},
   "outputs": [],
   "source": [
    "Student[\"Name\"] = \"Sumant\""
   ]
  },
  {
   "cell_type": "code",
   "execution_count": 25,
   "id": "5887af94-1020-4ccb-aa4e-2a18572f8c01",
   "metadata": {},
   "outputs": [
    {
     "data": {
      "text/plain": [
       "{'Name': 'Sumant', 'Age': 30, 'Place': 'Moradabad'}"
      ]
     },
     "execution_count": 25,
     "metadata": {},
     "output_type": "execute_result"
    }
   ],
   "source": [
    "Student"
   ]
  },
  {
   "cell_type": "code",
   "execution_count": 31,
   "id": "b917bda2-134e-4e7c-a78e-f328bf2d4e6c",
   "metadata": {},
   "outputs": [],
   "source": [
    "Student.update({\"Name\":\"Harry Poter\",\"language\":\"Python\"})"
   ]
  },
  {
   "cell_type": "code",
   "execution_count": 33,
   "id": "1de27798-338c-4448-b6cc-7b8c45f198c8",
   "metadata": {},
   "outputs": [
    {
     "data": {
      "text/plain": [
       "{'Name': 'Harry Poter', 'Age': 30, 'Place': 'Moradabad', 'language': 'Python'}"
      ]
     },
     "execution_count": 33,
     "metadata": {},
     "output_type": "execute_result"
    }
   ],
   "source": [
    "Student"
   ]
  }
 ],
 "metadata": {
  "kernelspec": {
   "display_name": "Python [conda env:base] *",
   "language": "python",
   "name": "conda-base-py"
  },
  "language_info": {
   "codemirror_mode": {
    "name": "ipython",
    "version": 3
   },
   "file_extension": ".py",
   "mimetype": "text/x-python",
   "name": "python",
   "nbconvert_exporter": "python",
   "pygments_lexer": "ipython3",
   "version": "3.12.7"
  }
 },
 "nbformat": 4,
 "nbformat_minor": 5
}
