{
 "cells": [
  {
   "cell_type": "code",
   "execution_count": 1,
   "id": "8263e118-7526-46ba-af24-ffb24c2cd317",
   "metadata": {},
   "outputs": [],
   "source": [
    "a = 5"
   ]
  },
  {
   "cell_type": "code",
   "execution_count": 19,
   "id": "d3cae940-3337-4ed1-aaef-1bdf9db2b4b3",
   "metadata": {},
   "outputs": [],
   "source": [
    "b = 4\n"
   ]
  },
  {
   "cell_type": "code",
   "execution_count": 21,
   "id": "866d2470-ad59-42eb-950c-2380849a2100",
   "metadata": {},
   "outputs": [
    {
     "name": "stdout",
     "output_type": "stream",
     "text": [
      "9\n"
     ]
    }
   ],
   "source": [
    "print(a+b)"
   ]
  },
  {
   "cell_type": "code",
   "execution_count": 23,
   "id": "08d18746-88b6-4ca3-a0c2-01120fbad4ae",
   "metadata": {},
   "outputs": [],
   "source": [
    "a = \"Sumant\""
   ]
  },
  {
   "cell_type": "code",
   "execution_count": 25,
   "id": "2ad552a9-b348-4fa2-baa9-cb359526ea87",
   "metadata": {},
   "outputs": [
    {
     "name": "stdout",
     "output_type": "stream",
     "text": [
      "<class 'str'>\n"
     ]
    }
   ],
   "source": [
    "print(type(a))"
   ]
  },
  {
   "cell_type": "code",
   "execution_count": null,
   "id": "bbeca08d-4c54-4df2-8fcd-8247b492e083",
   "metadata": {},
   "outputs": [],
   "source": []
  },
  {
   "cell_type": "code",
   "execution_count": null,
   "id": "9a3c5284-c11f-47cc-834a-7e85522766da",
   "metadata": {},
   "outputs": [],
   "source": []
  }
 ],
 "metadata": {
  "kernelspec": {
   "display_name": "Python [conda env:base] *",
   "language": "python",
   "name": "conda-base-py"
  },
  "language_info": {
   "codemirror_mode": {
    "name": "ipython",
    "version": 3
   },
   "file_extension": ".py",
   "mimetype": "text/x-python",
   "name": "python",
   "nbconvert_exporter": "python",
   "pygments_lexer": "ipython3",
   "version": "3.12.7"
  }
 },
 "nbformat": 4,
 "nbformat_minor": 5
}
