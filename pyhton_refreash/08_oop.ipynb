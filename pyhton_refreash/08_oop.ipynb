{
 "cells": [
  {
   "cell_type": "code",
   "execution_count": 7,
   "id": "1b3f0f36-1d4a-46b3-8041-40e8db919aef",
   "metadata": {},
   "outputs": [
    {
     "name": "stdout",
     "output_type": "stream",
     "text": [
      "The name of person is Sumant and salary 47000\n",
      "what is time now\n",
      "The name of the company is HP\n"
     ]
    }
   ],
   "source": [
    "class Employee():                    #class defining\n",
    "    company = \"HP\" #class attribut\n",
    "    def __init__(self, name, salary):\n",
    "        self.name = name                   #instance attribute\n",
    "        self.salary = salary               #instance attribute\n",
    "\n",
    "    \n",
    "    def details(self):\n",
    "        print(f\"The name of person is {self.name} and salary {self.salary}\")\n",
    "        \n",
    "\n",
    "    @staticmethod  # we cannot using neither class or instance attribue\n",
    "    def printTime():\n",
    "        print(\"what is time now\")\n",
    "\n",
    "    \n",
    "\n",
    "    @classmethod   # used for taking class attribute not instance attribute\n",
    "    def printclass(cls):\n",
    "        print(f\"The name of the company is {cls.company}\")\n",
    "\n",
    "e = Employee(\"Sumant\",47000)   #object defining\n",
    "e.details()\n",
    "e.printTime()\n",
    "e.printclass()"
   ]
  },
  {
   "cell_type": "code",
   "execution_count": null,
   "id": "94128aeb-c587-4f62-8d67-f43eb6f64548",
   "metadata": {},
   "outputs": [],
   "source": []
  }
 ],
 "metadata": {
  "kernelspec": {
   "display_name": "Python [conda env:base] *",
   "language": "python",
   "name": "conda-base-py"
  },
  "language_info": {
   "codemirror_mode": {
    "name": "ipython",
    "version": 3
   },
   "file_extension": ".py",
   "mimetype": "text/x-python",
   "name": "python",
   "nbconvert_exporter": "python",
   "pygments_lexer": "ipython3",
   "version": "3.12.7"
  }
 },
 "nbformat": 4,
 "nbformat_minor": 5
}
