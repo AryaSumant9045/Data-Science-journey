{
 "cells": [
  {
   "cell_type": "code",
   "execution_count": 2,
   "id": "29768be3-dc4b-4ed0-a567-27231e3068d4",
   "metadata": {},
   "outputs": [],
   "source": [
    "import json"
   ]
  },
  {
   "cell_type": "code",
   "execution_count": 3,
   "id": "5da3d3b9-f488-465b-aee1-7970098dc9c6",
   "metadata": {},
   "outputs": [],
   "source": [
    "obj = {\"Name\": \"Sumant\", \"Age\": 22, \"language\":\"python\"}"
   ]
  },
  {
   "cell_type": "code",
   "execution_count": 4,
   "id": "8c955496-0e61-4783-b22b-d82dc0d2f82d",
   "metadata": {},
   "outputs": [],
   "source": [
    "s = json.dumps(obj) # converts python object to json string"
   ]
  },
  {
   "cell_type": "code",
   "execution_count": 5,
   "id": "ddb28a49-05bd-4796-8f1d-33e337e3eeaa",
   "metadata": {},
   "outputs": [
    {
     "data": {
      "text/plain": [
       "'{\"Name\": \"Sumant\", \"Age\": 22, \"language\": \"python\"}'"
      ]
     },
     "execution_count": 5,
     "metadata": {},
     "output_type": "execute_result"
    }
   ],
   "source": [
    "s"
   ]
  },
  {
   "cell_type": "code",
   "execution_count": 6,
   "id": "e2f6936c-aa43-4b73-a610-b1f43b930651",
   "metadata": {},
   "outputs": [],
   "source": [
    "l = json.loads('{\"Name\": \"Sumant\", \"Age\": 22, \"language\":\"python\"}') # convert json string to python obj"
   ]
  },
  {
   "cell_type": "code",
   "execution_count": 7,
   "id": "ecc417a2-50e6-47b6-a124-e74461cae9ae",
   "metadata": {},
   "outputs": [
    {
     "data": {
      "text/plain": [
       "{'Name': 'Sumant', 'Age': 22, 'language': 'python'}"
      ]
     },
     "execution_count": 7,
     "metadata": {},
     "output_type": "execute_result"
    }
   ],
   "source": [
    "l"
   ]
  },
  {
   "cell_type": "code",
   "execution_count": 8,
   "id": "40f6934b-28f1-4e73-a1c5-d0e67fa6b02a",
   "metadata": {},
   "outputs": [],
   "source": [
    "file = open('data.json','w')\n",
    "json.dump(obj,file)"
   ]
  },
  {
   "cell_type": "code",
   "execution_count": 17,
   "id": "22f8879e-be87-4b5d-a77b-2691aa334646",
   "metadata": {},
   "outputs": [],
   "source": [
    "file.close()"
   ]
  },
  {
   "cell_type": "code",
   "execution_count": 25,
   "id": "1eb07fec-6937-4d00-9c1a-f0e2ad933d11",
   "metadata": {},
   "outputs": [
    {
     "name": "stdout",
     "output_type": "stream",
     "text": [
      "<_io.TextIOWrapper name='data.json' mode='r' encoding='cp1252'>\n"
     ]
    }
   ],
   "source": [
    "file = open(\"data.json\",'r')\n",
    "print(file)"
   ]
  },
  {
   "cell_type": "code",
   "execution_count": null,
   "id": "c3a3f278-2432-4eac-9a44-4395ff76412e",
   "metadata": {},
   "outputs": [],
   "source": []
  }
 ],
 "metadata": {
  "kernelspec": {
   "display_name": "Python [conda env:base] *",
   "language": "python",
   "name": "conda-base-py"
  },
  "language_info": {
   "codemirror_mode": {
    "name": "ipython",
    "version": 3
   },
   "file_extension": ".py",
   "mimetype": "text/x-python",
   "name": "python",
   "nbconvert_exporter": "python",
   "pygments_lexer": "ipython3",
   "version": "3.12.7"
  }
 },
 "nbformat": 4,
 "nbformat_minor": 5
}
