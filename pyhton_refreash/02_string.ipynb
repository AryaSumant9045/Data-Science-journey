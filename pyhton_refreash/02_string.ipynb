{
 "cells": [
  {
   "cell_type": "code",
   "execution_count": 3,
   "id": "6d6514d0-516c-4605-8f9c-d183a7692797",
   "metadata": {},
   "outputs": [],
   "source": [
    "name = \"Sumant\""
   ]
  },
  {
   "cell_type": "code",
   "execution_count": 7,
   "id": "2dd78966-0d0d-429e-9e29-68f2ca0563b7",
   "metadata": {},
   "outputs": [
    {
     "data": {
      "text/plain": [
       "'Sumant'"
      ]
     },
     "execution_count": 7,
     "metadata": {},
     "output_type": "execute_result"
    }
   ],
   "source": [
    "name"
   ]
  },
  {
   "cell_type": "code",
   "execution_count": 11,
   "id": "fde3fdef-610a-4f4f-8d9c-f6552886f46a",
   "metadata": {},
   "outputs": [
    {
     "data": {
      "text/plain": [
       "'SUMANT'"
      ]
     },
     "execution_count": 11,
     "metadata": {},
     "output_type": "execute_result"
    }
   ],
   "source": [
    "name.upper()\n"
   ]
  },
  {
   "cell_type": "code",
   "execution_count": 15,
   "id": "2fa595ff-a596-4f78-b1fd-8811e6f61289",
   "metadata": {},
   "outputs": [
    {
     "data": {
      "text/plain": [
       "True"
      ]
     },
     "execution_count": 15,
     "metadata": {},
     "output_type": "execute_result"
    }
   ],
   "source": [
    "name.endswith(\"ant\")"
   ]
  },
  {
   "cell_type": "code",
   "execution_count": 19,
   "id": "f78188b9-0c6d-427d-8e20-05ef8b59cf6f",
   "metadata": {},
   "outputs": [
    {
     "data": {
      "text/plain": [
       "False"
      ]
     },
     "execution_count": 19,
     "metadata": {},
     "output_type": "execute_result"
    }
   ],
   "source": [
    "name.endswith(\"annt\")\n"
   ]
  },
  {
   "cell_type": "code",
   "execution_count": 21,
   "id": "41621949-59e9-489a-b996-49508ad00a39",
   "metadata": {},
   "outputs": [
    {
     "data": {
      "text/plain": [
       "1"
      ]
     },
     "execution_count": 21,
     "metadata": {},
     "output_type": "execute_result"
    }
   ],
   "source": [
    "name.count(\"a\")"
   ]
  },
  {
   "cell_type": "code",
   "execution_count": 27,
   "id": "28b2644a-42c9-4a27-9d61-f6b63aeed2c4",
   "metadata": {},
   "outputs": [],
   "source": [
    "sting = \"CodeWithHarry\""
   ]
  },
  {
   "cell_type": "code",
   "execution_count": 33,
   "id": "c28f1bc0-506b-43c6-8d7d-b3971242413c",
   "metadata": {},
   "outputs": [
    {
     "data": {
      "text/plain": [
       "'deWithHarr'"
      ]
     },
     "execution_count": 33,
     "metadata": {},
     "output_type": "execute_result"
    }
   ],
   "source": [
    "sting[2:-1]"
   ]
  },
  {
   "cell_type": "code",
   "execution_count": 35,
   "id": "d40e73ed-2f71-486c-8c9f-ec5d3aa0fc59",
   "metadata": {},
   "outputs": [
    {
     "data": {
      "text/plain": [
       "'yrraHhtiWedoC'"
      ]
     },
     "execution_count": 35,
     "metadata": {},
     "output_type": "execute_result"
    }
   ],
   "source": [
    "sting[::-1]"
   ]
  },
  {
   "cell_type": "code",
   "execution_count": 37,
   "id": "e29ef71d-ad43-4ec2-92d1-76132a601fda",
   "metadata": {},
   "outputs": [
    {
     "data": {
      "text/plain": [
       "'odeWithHarr'"
      ]
     },
     "execution_count": 37,
     "metadata": {},
     "output_type": "execute_result"
    }
   ],
   "source": [
    "sting[1:12]"
   ]
  },
  {
   "cell_type": "code",
   "execution_count": 43,
   "id": "32db82b0-d645-45b4-8a98-e01e1a79f245",
   "metadata": {},
   "outputs": [],
   "source": [
    "data = \"ssdlkffffffffS\""
   ]
  },
  {
   "cell_type": "code",
   "execution_count": null,
   "id": "03bff00a-c647-4e9d-abed-658d7ed5999b",
   "metadata": {},
   "outputs": [],
   "source": []
  }
 ],
 "metadata": {
  "kernelspec": {
   "display_name": "Python [conda env:base] *",
   "language": "python",
   "name": "conda-base-py"
  },
  "language_info": {
   "codemirror_mode": {
    "name": "ipython",
    "version": 3
   },
   "file_extension": ".py",
   "mimetype": "text/x-python",
   "name": "python",
   "nbconvert_exporter": "python",
   "pygments_lexer": "ipython3",
   "version": "3.12.7"
  }
 },
 "nbformat": 4,
 "nbformat_minor": 5
}
